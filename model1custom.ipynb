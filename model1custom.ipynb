{
  "nbformat": 4,
  "nbformat_minor": 0,
  "metadata": {
    "colab": {
      "provenance": [],
      "gpuType": "T4",
      "include_colab_link": true
    },
    "kernelspec": {
      "name": "python3",
      "display_name": "Python 3"
    },
    "language_info": {
      "name": "python"
    },
    "accelerator": "GPU"
  },
  "cells": [
    {
      "cell_type": "markdown",
      "metadata": {
        "id": "view-in-github",
        "colab_type": "text"
      },
      "source": [
        "<a href=\"https://colab.research.google.com/github/sanalsajann/crop-disease-detection/blob/main/model1custom.ipynb\" target=\"_parent\"><img src=\"https://colab.research.google.com/assets/colab-badge.svg\" alt=\"Open In Colab\"/></a>"
      ]
    },
    {
      "cell_type": "code",
      "execution_count": null,
      "metadata": {
        "colab": {
          "base_uri": "https://localhost:8080/"
        },
        "id": "wRQ2_Opiv7zs",
        "outputId": "5dd4acd3-08bd-48cc-808a-99726864944a"
      },
      "outputs": [
        {
          "output_type": "stream",
          "name": "stdout",
          "text": [
            "Mounted at /content/drive\n"
          ]
        }
      ],
      "source": [
        "from google.colab import drive\n",
        "drive.mount('/content/drive')"
      ]
    },
    {
      "cell_type": "code",
      "source": [],
      "metadata": {
        "id": "3UdwllnlTXw_"
      },
      "execution_count": null,
      "outputs": []
    },
    {
      "cell_type": "code",
      "source": [
        "import os\n",
        "\n",
        "# Define paths\n",
        "data_dir = \"/content/drive/My Drive/datasetsmall\"  # Path to your dataset\n",
        "save_dir = \"/content/drive/My Drive/models\"  # Folder to save models\n",
        "\n",
        "# Create the folder if it doesn't exist\n",
        "os.makedirs(save_dir, exist_ok=True)\n",
        "\n",
        "print(f\"Dataset path: {data_dir}\")\n",
        "print(f\"Models will be saved at: {save_dir}\")\n"
      ],
      "metadata": {
        "colab": {
          "base_uri": "https://localhost:8080/"
        },
        "id": "uKC44CkJWxLw",
        "outputId": "80ee1a63-2a59-494e-e97f-1f1bbedcf961"
      },
      "execution_count": null,
      "outputs": [
        {
          "output_type": "stream",
          "name": "stdout",
          "text": [
            "Dataset path: /content/drive/My Drive/datasetsmall\n",
            "Models will be saved at: /content/drive/My Drive/models\n"
          ]
        }
      ]
    },
    {
      "cell_type": "code",
      "source": [
        "import tensorflow as tf\n",
        "from tensorflow.keras.preprocessing import image_dataset_from_directory\n",
        "\n",
        "# Load dataset with 80-20 split\n",
        "train_dataset = image_dataset_from_directory(\n",
        "    data_dir,\n",
        "    validation_split=0.2,\n",
        "    subset=\"training\",\n",
        "    seed=123,\n",
        "    image_size=(224, 224),\n",
        "    batch_size=32\n",
        ")\n",
        "\n",
        "val_dataset = image_dataset_from_directory(\n",
        "    data_dir,\n",
        "    validation_split=0.2,\n",
        "    subset=\"validation\",\n",
        "    seed=123,\n",
        "    image_size=(224, 224),\n",
        "    batch_size=32\n",
        ")\n",
        "\n",
        "# Get class names\n",
        "class_names = train_dataset.class_names\n",
        "num_classes = len(class_names)\n",
        "\n",
        "print(f\"Classes found: {class_names}\")\n",
        "print(f\"Number of classes: {num_classes}\")\n"
      ],
      "metadata": {
        "colab": {
          "base_uri": "https://localhost:8080/"
        },
        "id": "MgokXPqiXqeT",
        "outputId": "1761cd36-2daf-46a1-d792-4bbe87799ac4"
      },
      "execution_count": null,
      "outputs": [
        {
          "output_type": "stream",
          "name": "stdout",
          "text": [
            "Found 35627 files belonging to 2 classes.\n",
            "Using 28502 files for training.\n",
            "Found 35627 files belonging to 2 classes.\n",
            "Using 7125 files for validation.\n",
            "Classes found: ['maize', 'tomato']\n",
            "Number of classes: 2\n"
          ]
        }
      ]
    },
    {
      "cell_type": "code",
      "source": [
        "# Preprocessing to normalize images to [0, 1]\n",
        "preprocessing_layer = tf.keras.layers.Rescaling(1.0 / 255)\n",
        "\n",
        "# Apply preprocessing to train and validation datasets\n",
        "train_dataset = train_dataset.map(lambda x, y: (preprocessing_layer(x), y))\n",
        "val_dataset = val_dataset.map(lambda x, y: (preprocessing_layer(x), y))\n",
        "\n",
        "print(\"✅ Preprocessing applied. Images normalized to [0, 1].\")\n"
      ],
      "metadata": {
        "colab": {
          "base_uri": "https://localhost:8080/"
        },
        "id": "CLLnLpDDX9Cv",
        "outputId": "8104ef29-8019-444d-8460-f759f2ec3b54"
      },
      "execution_count": null,
      "outputs": [
        {
          "output_type": "stream",
          "name": "stdout",
          "text": [
            "✅ Preprocessing applied. Images normalized to [0, 1].\n"
          ]
        }
      ]
    },
    {
      "cell_type": "code",
      "source": [
        "# Corrected Custom CNN Model\n",
        "def build_custom_cnn_v2(num_classes):\n",
        "    inputs = tf.keras.Input(shape=(224, 224, 3))\n",
        "\n",
        "    x = tf.keras.layers.Conv2D(32, (3, 3), activation='relu')(inputs)\n",
        "    x = tf.keras.layers.MaxPooling2D((2, 2))(x)\n",
        "\n",
        "    x = tf.keras.layers.Conv2D(64, (3, 3), activation='relu')(x)\n",
        "    x = tf.keras.layers.MaxPooling2D((2, 2))(x)\n",
        "\n",
        "    x = tf.keras.layers.Conv2D(128, (3, 3), activation='relu')(x)\n",
        "    x = tf.keras.layers.MaxPooling2D((2, 2))(x)\n",
        "\n",
        "    x = tf.keras.layers.Flatten()(x)\n",
        "    x = tf.keras.layers.Dense(256, activation='relu')(x)\n",
        "    x = tf.keras.layers.Dropout(0.5)(x)\n",
        "    outputs = tf.keras.layers.Dense(num_classes, activation='softmax')(x)\n",
        "\n",
        "    model = tf.keras.Model(inputs=inputs, outputs=outputs)\n",
        "\n",
        "    model.compile(optimizer=tf.keras.optimizers.Adam(learning_rate=0.0001),\n",
        "                  loss='sparse_categorical_crossentropy',\n",
        "                  metrics=['accuracy'])\n",
        "\n",
        "    return model\n",
        "\n",
        "# Build the corrected model\n",
        "custom_cnn_model_v2 = build_custom_cnn_v2(num_classes)\n",
        "\n",
        "print(\"✅ Custom CNN model built successfully!\")\n"
      ],
      "metadata": {
        "id": "qzCmLpVWYP2X"
      },
      "execution_count": null,
      "outputs": []
    },
    {
      "cell_type": "code",
      "source": [
        "# Define path to save models\n",
        "model_save_path = \"/content/drive/My Drive/models\"\n"
      ],
      "metadata": {
        "id": "c9Z83JXiZNcB"
      },
      "execution_count": null,
      "outputs": []
    },
    {
      "cell_type": "code",
      "source": [
        "# Train the corrected Custom CNN model\n",
        "custom_cnn_history = custom_cnn_model_v2.fit(\n",
        "    train_dataset,\n",
        "    validation_data=val_dataset,\n",
        "    epochs=50,\n",
        "    callbacks=[\n",
        "        tf.keras.callbacks.ModelCheckpoint(model_save_path + \"/CustomCNN.h5\", save_best_only=True),\n",
        "        tf.keras.callbacks.EarlyStopping(monitor=\"val_loss\", patience=5, restore_best_weights=True)\n",
        "    ]\n",
        ")\n",
        "\n",
        "print(\"✅ Custom CNN model training completed!\")\n"
      ],
      "metadata": {
        "id": "NoVo9aqdYxma"
      },
      "execution_count": null,
      "outputs": []
    },
    {
      "cell_type": "code",
      "source": [
        "# Load the best saved version of Custom CNN\n",
        "from tensorflow.keras.models import load_model\n",
        "\n",
        "# Path to saved model\n",
        "custom_cnn_path = model_save_path + \"/CustomCNN.h5\"\n",
        "\n",
        "# Load the best model\n",
        "custom_cnn_model = load_model(custom_cnn_path)\n",
        "\n",
        "# Evaluate on validation set\n",
        "custom_cnn_eval = custom_cnn_model.evaluate(val_dataset)\n",
        "print(f\"✅ Custom CNN - Final Val Accuracy: {custom_cnn_eval[1]:.4f}, Final Val Loss: {custom_cnn_eval[0]:.4f}\")\n"
      ],
      "metadata": {
        "id": "PqVBZ2RvYLJy"
      },
      "execution_count": null,
      "outputs": []
    },
    {
      "cell_type": "code",
      "source": [
        "test_loss, test_acc = custom_cnn_model.evaluate(val_dataset)\n",
        "print(f\"✅ Validation Accuracy: {test_acc * 100:.2f}%\")\n",
        "print(f\"✅ Validation Loss: {test_loss:.4f}\")\n"
      ],
      "metadata": {
        "colab": {
          "base_uri": "https://localhost:8080/"
        },
        "id": "OYLmbG2PYfJh",
        "outputId": "3ae2053f-96b5-4623-a80e-c0f0c973990c"
      },
      "execution_count": null,
      "outputs": [
        {
          "output_type": "stream",
          "name": "stdout",
          "text": [
            "\u001b[1m223/223\u001b[0m \u001b[32m━━━━━━━━━━━━━━━━━━━━\u001b[0m\u001b[37m\u001b[0m \u001b[1m918s\u001b[0m 4s/step - accuracy: 0.9934 - loss: 0.0222\n",
            "✅ Validation Accuracy: 99.24%\n",
            "✅ Validation Loss: 0.0250\n"
          ]
        }
      ]
    },
    {
      "cell_type": "code",
      "source": [
        "import numpy as np\n",
        "import matplotlib.pyplot as plt\n",
        "import seaborn as sns\n",
        "from sklearn.metrics import confusion_matrix, classification_report\n",
        "from tensorflow.keras.preprocessing.image import ImageDataGenerator\n",
        "from tensorflow.keras.models import load_model\n"
      ],
      "metadata": {
        "id": "1YLt75JG3Rrc"
      },
      "execution_count": null,
      "outputs": []
    },
    {
      "cell_type": "code",
      "source": [
        "test_datagen = ImageDataGenerator(rescale=1./255)\n",
        "\n",
        "test_generator = test_datagen.flow_from_directory(\n",
        "    data_dir,\n",
        "    target_size=(224, 224),\n",
        "    batch_size=32,\n",
        "    class_mode='categorical',\n",
        "    shuffle=False\n",
        ")\n"
      ],
      "metadata": {
        "colab": {
          "base_uri": "https://localhost:8080/"
        },
        "id": "3RSz1cSw3TE8",
        "outputId": "7b04e3b4-6da0-4e3f-a545-415af32ef56a"
      },
      "execution_count": null,
      "outputs": [
        {
          "output_type": "stream",
          "name": "stdout",
          "text": [
            "Found 35627 images belonging to 2 classes.\n"
          ]
        }
      ]
    },
    {
      "cell_type": "code",
      "source": [
        "print(train_generator.class_indices)"
      ],
      "metadata": {
        "id": "m3Esr0mwnP9X"
      },
      "execution_count": null,
      "outputs": []
    },
    {
      "cell_type": "code",
      "source": [
        "from tensorflow.keras.models import load_model\n",
        "\n",
        "# Path to saved model\n",
        "custom_cnn_path = model_save_path + \"/CustomCNN.h5\"\n",
        "\n",
        "# Load the best model\n",
        "custom_cnn_model = load_model(custom_cnn_path)"
      ],
      "metadata": {
        "colab": {
          "base_uri": "https://localhost:8080/"
        },
        "id": "6Glrzg-cXl2w",
        "outputId": "b919520d-a953-4552-dacd-f718f634efe5"
      },
      "execution_count": null,
      "outputs": [
        {
          "output_type": "stream",
          "name": "stderr",
          "text": [
            "WARNING:absl:Compiled the loaded model, but the compiled metrics have yet to be built. `model.compile_metrics` will be empty until you train or evaluate the model.\n"
          ]
        }
      ]
    },
    {
      "cell_type": "code",
      "source": [
        "test_generator = test_datagen.flow_from_directory(\n",
        "   data_dir,\n",
        "    target_size=(224, 224),\n",
        "    batch_size=32,\n",
        "    class_mode='categorical',  # One-hot encoding (for categorical_crossentropy)\n",
        "    shuffle=False\n",
        ")\n"
      ],
      "metadata": {
        "colab": {
          "base_uri": "https://localhost:8080/"
        },
        "id": "Acem5MHp6Fqc",
        "outputId": "ab662f09-576f-4564-97c4-ab59253375df"
      },
      "execution_count": null,
      "outputs": [
        {
          "output_type": "stream",
          "name": "stdout",
          "text": [
            "Found 35627 images belonging to 2 classes.\n"
          ]
        }
      ]
    },
    {
      "cell_type": "code",
      "source": [
        "from tensorflow.keras.models import load_model\n",
        "\n",
        "# Load the trained model without compiling\n",
        "model = load_model(\"path_to_your_trained_model.h5\", compile=False)\n",
        "\n",
        "model.compile(optimizer=\"adam\", loss=\"categorical_crossentropy\", metrics=[\"accuracy\"])\n"
      ],
      "metadata": {
        "id": "xY_x6lrJ6L1j"
      },
      "execution_count": null,
      "outputs": []
    },
    {
      "cell_type": "code",
      "source": [
        "model.evaluate(test_generator, steps=1)\n"
      ],
      "metadata": {
        "colab": {
          "base_uri": "https://localhost:8080/"
        },
        "id": "5kCkKxrM6Npj",
        "outputId": "7ce601e9-39a0-405c-f743-3595ed518274"
      },
      "execution_count": null,
      "outputs": [
        {
          "output_type": "stream",
          "name": "stderr",
          "text": [
            "/usr/local/lib/python3.11/dist-packages/keras/src/trainers/data_adapters/py_dataset_adapter.py:121: UserWarning: Your `PyDataset` class should call `super().__init__(**kwargs)` in its constructor. `**kwargs` can include `workers`, `use_multiprocessing`, `max_queue_size`. Do not pass these arguments to `fit()`, as they will be ignored.\n",
            "  self._warn_if_super_not_called()\n"
          ]
        },
        {
          "output_type": "stream",
          "name": "stdout",
          "text": [
            "\u001b[1m1/1\u001b[0m \u001b[32m━━━━━━━━━━━━━━━━━━━━\u001b[0m\u001b[37m\u001b[0m \u001b[1m1s\u001b[0m 854ms/step - accuracy: 0.9375 - loss: 0.1053\n"
          ]
        },
        {
          "output_type": "execute_result",
          "data": {
            "text/plain": [
              "[0.10526745021343231, 0.9375]"
            ]
          },
          "metadata": {},
          "execution_count": 22
        }
      ]
    },
    {
      "cell_type": "code",
      "source": [
        "import numpy as np\n",
        "import matplotlib.pyplot as plt\n",
        "import seaborn as sns\n",
        "from sklearn.metrics import confusion_matrix, classification_report\n",
        "\n",
        "# Get true labels and predictions\n",
        "true_labels = test_generator.classes\n",
        "predictions = model.predict(test_generator)\n",
        "predicted_labels = np.argmax(predictions, axis=1)\n",
        "\n",
        "# Compute confusion matrix\n",
        "conf_matrix = confusion_matrix(true_labels, predicted_labels)\n",
        "\n",
        "# Plot confusion matrix\n",
        "plt.figure(figsize=(10, 8))\n",
        "sns.heatmap(conf_matrix, annot=True, fmt='d', cmap='Blues',\n",
        "            xticklabels=test_generator.class_indices.keys(),\n",
        "            yticklabels=test_generator.class_indices.keys())\n",
        "plt.xlabel(\"Predicted Label\")\n",
        "plt.ylabel(\"True Label\")\n",
        "plt.title(\"Confusion Matrix for Crop Disease Detection\")\n",
        "plt.show()\n",
        "\n",
        "# Print classification report\n",
        "print(classification_report(true_labels, predicted_labels, target_names=test_generator.class_indices.keys()))\n"
      ],
      "metadata": {
        "id": "KhWlUEHq6b66"
      },
      "execution_count": null,
      "outputs": []
    },
    {
      "cell_type": "code",
      "source": [
        "import numpy as np\n",
        "import matplotlib.pyplot as plt\n",
        "import seaborn as sns\n",
        "from sklearn.metrics import classification_report, confusion_matrix\n",
        "\n",
        "# Assuming you have a trained model\n",
        "from tensorflow.keras.models import load_model\n"
      ],
      "metadata": {
        "id": "LXIVkV41Bia4"
      },
      "execution_count": null,
      "outputs": []
    },
    {
      "cell_type": "code",
      "source": [
        "# Get class names from test generator\n",
        "class_names = list(test_generator.class_indices.keys())\n",
        "\n",
        "# Print precision, recall, and F1-score\n",
        "print(classification_report(true_labels, predicted_labels, target_names=class_names))\n"
      ],
      "metadata": {
        "id": "Q3cNoWYCC0ea"
      },
      "execution_count": null,
      "outputs": []
    }
  ]
}